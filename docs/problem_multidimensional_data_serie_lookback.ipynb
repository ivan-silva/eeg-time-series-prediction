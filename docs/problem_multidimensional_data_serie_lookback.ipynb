{
 "cells": [
  {
   "cell_type": "markdown",
   "source": [
    "\n",
    "# Data una sequenza bidimensionale predirne il continuo\n",
    "\n",
    "È l'estensione su due dimensioni dell'applicazione precedente. In questo caso in input abbiamo $n$ sequenze di input e come previsione avremo non uno ma $n$ valori.\n",
    "\n",
    "**TODO**\n",
    "\n",
    "> **Samples**. One sequence is one sample. A batch comprises one or more samples.  \n",
    "> **Time Steps**. One time step is one point of observation in the sample.  \n",
    "> **Features**. One feature is one observation at a time step.  "
   ],
   "metadata": {
    "collapsed": false,
    "pycharm": {
     "name": "#%% md\n"
    }
   }
  }
 ],
 "metadata": {
  "kernelspec": {
   "display_name": "Python 3",
   "language": "python",
   "name": "python3"
  },
  "language_info": {
   "codemirror_mode": {
    "name": "ipython",
    "version": 2
   },
   "file_extension": ".py",
   "mimetype": "text/x-python",
   "name": "python",
   "nbconvert_exporter": "python",
   "pygments_lexer": "ipython2",
   "version": "2.7.6"
  }
 },
 "nbformat": 4,
 "nbformat_minor": 0
}
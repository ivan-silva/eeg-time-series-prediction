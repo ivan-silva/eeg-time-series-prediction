{
 "cells": [
  {
   "cell_type": "markdown",
   "metadata": {
    "collapsed": true,
    "pycharm": {
     "name": "#%% md\n"
    }
   },
   "source": [
    "# Analisi e preparazione dei dati medi\n",
    "\n",
    "I dati sono stati registrati durante un ciclo di terapia effettuato durante 78 sedute, su 7 soggetti. Per ognuna delle quali sono stati registrati i valori medi relativi a 10 parametri:\n",
    "\n",
    "0. Alfa1\n",
    "1. Alfa2\n",
    "2. Beta1\n",
    "3. Beta2\n",
    "4. Delta\n",
    "5. Gamma1\n",
    "6. Gamma2\n",
    "7. Theta\n",
    "8. Meditazione (*calcolato*)\n",
    "9. Attenzione (*calcolato*)\n",
    "\n",
    "Questi sono stati estratti dall’onda eeg originale, isolando range di frequenze specifiche, tramite trasformata di Fourier.\n",
    "\n",
    "> **Nota.** I valori calcolati non dovrebbero aggiungere informazioni interessanti e quindi in un primo momento non li consideriamo.\n",
    "> **Nota.** In questo momento i dati sono relativi unicamente a un paziente\n"
   ]
  },
  {
   "cell_type": "markdown",
   "source": [
    "\n",
    "\n",
    "## Plot\n",
    "\n",
    "Per fare i primi ragionamenti sui dati e cominciare a \"capirli\", si è scelto casualmente un paziente e si è fatto un grafico dei valori.\n",
    "\n",
    "![parameters_plot](../images/parameters_plot.png)\n",
    "\n",
    "Dato che notiamo degli spike anomali proviamo a farne un plot sovrapposto\n",
    "\n",
    "![raw_parameters](../images/raw_parameters.png)\n",
    "\n",
    "Vediamo che gli spike sono diffusi sui vari canali, in questo momento può venire in mente siano causati da giornate particolari, errori di taratura degli strumenti ecc. va indagato ed è necessario capire se escluderli o attenuarli.\n",
    "\n",
    "### Matrice di correlazione\n",
    "\n",
    "Successivamente si è fatta una matrice di correlazione per iniziare a indagare i rapporti tra i valori e valutare se escludere parametri tra loro dipendenti.\n",
    "\n",
    "![feature_correlation_heatmap](../images/feature_correlation_heatmap.png)\n"
   ],
   "metadata": {
    "collapsed": false
   }
  },
  {
   "cell_type": "markdown",
   "source": [
    "### Scelta e preparazione dei parametri\n",
    "\n",
    "Per queste prime prove è stato deciso di rimuovere i parametri calcolati, *attenzione* e *meditazione*, rimangono quindi\n",
    "\n",
    "0. Alfa1\n",
    "1. Alfa2\n",
    "2. Beta1\n",
    "3. Beta2\n",
    "4. Delta\n",
    "5. Gamma1\n",
    "6. Gamma2\n",
    "7. Theta\n",
    "\n",
    "I parametri sono stati poi stati portati all’interno di un intervallo $[0,1]$ tramite `MinMaxScaler((-1, 1))`.\n",
    "\n",
    "![normalized_parameters](../images/normalized_parameters.png)\n",
    "\n",
    "Si è provato anche ad applicare uno *Standard score* ma per ora sembra peggiorare i valori di training, verranno fatte ulteriori prove durante il fine tuning.\n"
   ],
   "metadata": {
    "collapsed": false
   }
  }
 ],
 "metadata": {
  "kernelspec": {
   "name": "cuda-11",
   "language": "python",
   "display_name": "cuda-11"
  },
  "language_info": {
   "codemirror_mode": {
    "name": "ipython",
    "version": 2
   },
   "file_extension": ".py",
   "mimetype": "text/x-python",
   "name": "python",
   "nbconvert_exporter": "python",
   "pygments_lexer": "ipython2",
   "version": "2.7.6"
  }
 },
 "nbformat": 4,
 "nbformat_minor": 0
}
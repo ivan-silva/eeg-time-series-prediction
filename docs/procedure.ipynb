{
 "cells": [
  {
   "cell_type": "markdown",
   "metadata": {
    "pycharm": {
     "name": "#%% md\n"
    }
   },
   "source": [
    "# Analisi di eeg come serie temporali\n",
    "\n",
    "## Dati\n",
    "\n",
    "I dati sono stati registrati durante un ciclo di terapia effettuato durante 78 sedute, su 7 soggetti. Per ognuna delle quali sono stati registrati i valori medi relativi a 10 parametri:\n",
    "\n",
    "0. Alfa1\n",
    "1. Alfa2\n",
    "2. Beta1\n",
    "3. Beta2\n",
    "4. Delta\n",
    "5. Gamma1\n",
    "6. Gamma2\n",
    "7. Theta\n",
    "8. Meditazione (*calcolato*)\n",
    "9. Attenzione (*calcolato*)\n",
    "\n",
    "Questi sono stati estratti dall’onda eeg originale, isolando range di frequenze specifiche, tramite trasformata di Fourier.\n",
    "\n",
    "> **Nota.** I valori calcolati non dovrebbero aggiungere informazioni interessanti e quindi in un primo momento non li consideriamo.\n",
    "> **Nota.** In questo momento i dati sono relativi unicamente a un paziente\n"
   ]
  },
  {
   "cell_type": "markdown",
   "metadata": {},
   "source": [
    "### Plot\n",
    "\n",
    "Per fare i primi ragionamenti sui dati e cominciare a \"capirli\", si è scelto casualmente un paziente e si è fatto un grafico dei valori.\n",
    "\n",
    "![parameters_plot](../images/parameters_plot.png)\n",
    "\n",
    "Dato che notiamo degli spike anomali proviamo a farne un plot sovrapposto\n",
    "\n",
    "![raw_parameters](../images/raw_parameters.png)\n",
    "\n",
    "Vediamo che gli spike sono diffusi sui vari canali, in questo momento può venire in mente siano causati da giornate particolari, errori di taratura degli strumenti ecc. va indagato ed è necessario capire se escluderli o attenuarli.\n",
    "\n",
    "## Matrice di correlazione\n",
    "\n",
    "Successivamente si è fatta una matrice di correlazione per iniziare a indagare i rapporti tra i valori e valutare se escludere parametri tra loro dipendenti.\n",
    "\n",
    "![feature_correlation_heatmap](../images/feature_correlation_heatmap.png)\n"
   ]
  },
  {
   "cell_type": "markdown",
   "metadata": {},
   "source": [
    "## Scelta e preparazione dei parametri\n",
    "\n",
    "Per queste prime prove è stato deciso di rimuovere i parametri calcolati, *attenzione* e *meditazione*, rimangono quindi\n",
    "\n",
    "0. Alfa1\n",
    "1. Alfa2\n",
    "2. Beta1\n",
    "3. Beta2\n",
    "4. Delta\n",
    "5. Gamma1\n",
    "6. Gamma2\n",
    "7. Theta\n",
    "\n",
    "I parametri sono stati poi stati portati all’interno di un intervallo $[0,1]$ tramite `MinMaxScaler((-1, 1))`.\n",
    "\n",
    "![normalized_parameters](../images/normalized_parameters.png)\n",
    "\n",
    "Si è provato anche ad applicare uno *Standard score* ma per ora sembra peggiorare i valori di training, verranno fatte ulteriori prove durante il fine tuning.\n"
   ]
  },
  {
   "cell_type": "markdown",
   "metadata": {
    "pycharm": {
     "name": "#%% md\n"
    }
   },
   "source": [
    "\n",
    "## Model\n",
    "\n",
    "Di seguito `input_shape`, `target_shape` e model summary\n",
    "\n",
    "```\n",
    "Input shape: (1, 1, 8)\n",
    "Target shape: (1, 1)\n",
    "\n",
    "Model: \"model\"\n",
    "_________________________________________________________________\n",
    "Layer (type)                 Output Shape              Param #\n",
    "=================================================================\n",
    "input_1 (InputLayer)         [(None, 1, 8)]            0\n",
    "_________________________________________________________________\n",
    "lstm (LSTM)                  (None, 32)                5248\n",
    "_________________________________________________________________\n",
    "dense (Dense)                (None, 1)                 33\n",
    "=================================================================\n",
    "Total params: 5,281\n",
    "Trainable params: 5,281\n",
    "Non-trainable params: 0\n",
    "_________________________________________________________________\n",
    "```"
   ]
  },
  {
   "cell_type": "markdown",
   "metadata": {},
   "source": [
    "## Training\n",
    "\n",
    "I dati di training sono stati espansi tramite [`timeseries_dataset_from_array`](https://www.tensorflow.org/api_docs/python/tf/keras/preprocessing/timeseries_dataset_from_array), utilizzando i seguenti parametri\n",
    "\n",
    "```\n",
    "sequence_length = 1\n",
    "sampling_rate = 1\n",
    "sequence_stride = 1\n",
    "```\n",
    "\n",
    "Sono perplesso sull’utilità di utilizzare una sliding window con questi parametri, mi aspetto il risultato finale sia equivalente alla sequenza iniziale. Qualsiasi altro parametro peggiorava notevolmente i risultati.\n",
    "\n",
    "I parametri del training invece sono\n",
    "\n",
    "```\n",
    " learning_rate = 0.001\n",
    " batch_size = 1\n",
    " epochs = 100\n",
    "```\n",
    "\n",
    "\n",
    "\n",
    "## Categorizzazione e risoluzione di problemi\n",
    "\n",
    "### Data una sequenza monodimensionale predirne il continuo\n"
   ]
  },
  {
   "cell_type": "markdown",
   "metadata": {
    "pycharm": {
     "name": "#%% md\n"
    }
   },
   "source": [
    "\n",
    "#### Dati\n",
    "\n",
    "Array colonna di dati float\n",
    "\n",
    "$$\n",
    "\\begin{equation}\n",
    "dataset = (a_1, a_2, \\dots, a_m)' =\n",
    "\\begin{bmatrix}\n",
    "a_1 \\\\ a_2 \\\\ \\vdots \\\\ a_m\n",
    "\\end{bmatrix}\n",
    "\\end{equation}\n",
    "$$\n",
    "\n",
    "dove $|dataset| = m$.\n"
   ]
  },
  {
   "cell_type": "markdown",
   "metadata": {
    "pycharm": {
     "name": "#%% md\n"
    }
   },
   "source": [
    "\n",
    "#### Model e train\n",
    "\n",
    "Prendiamo i dati e scegliamo un indice $i$ che divida tra quelli che useremo per l’allenamento e quelli invece che useremo per la validazione\n",
    "\n",
    "$$\n",
    "\\begin{align}\n",
    "train &= (a_1, a_2, \\dots, a_{i})' \\\\\n",
    "val &= (a_{i+1}, a_{i+2}, \\dots, a_m)'\n",
    "\\end{align}\n",
    "$$\n",
    "\n",
    "Sia per i dati di allenamento che per i dati di validazione, generiamo le variabili $input_{L}(x)$ e il $target_L(y)$, dove $L$ è la variabile di *look back* che ci dice quanti elementi vengono tenuti in considerazione per indovinare l’elemento $a_{L+1}$-esimo\n",
    "\n",
    "$$\n",
    "\\begin{align}\n",
    "    &\\begin{cases}\n",
    "        input_1 &= (a_1, a_2, \\dots, a_{m-1})'\n",
    "        \\\\\n",
    "        target_1 &= (a_{2}, a_{3}, \\dots, a_m)'\n",
    "        \\end{cases}\n",
    "        \\\\\n",
    "    &\\begin{cases}\n",
    "        input_2 &=\n",
    "        ((a_1, a_2), (a_2, a_3) \\dots,(a_{n-2}, a_{m-1}) )'\n",
    "        \\\\\n",
    "        target_2 &= (a_{3}, a_{4}, \\dots, a_m)'\n",
    "        \\end{cases}\n",
    "        \\\\\n",
    "        &\\vdots\n",
    "        \\\\\n",
    "    &\\begin{cases}\n",
    "        input_L &= ((a_1, a_2, \\dots, a_{L}),\\dots,((a_{m-L}, a_{m-(L-1)}, \\dots, a_{m-2}, a_{m-1})) )'\n",
    "        \\\\\n",
    "        target_L &= (a_{L+1}, \\dots, a_m)'\n",
    "    \\end{cases}\n",
    "\\end{align}\n",
    "$$\n",
    "\n",
    "in forma matriciale\n",
    "\n",
    "$$\n",
    "\\begin{array}{}\n",
    "    I^{(m-L) \\times (L)} =\n",
    "    \\begin{pmatrix}\n",
    "        a_1 & a_2 & \\dots & a_{L-1} & a_{L} \\\\\n",
    "        a_2 & a_3 & \\dots & a_{L} & a_{L+1} \\\\\n",
    "        a_3 & a_4 & \\dots & a_{L+1} & a_{L+2} \\\\\n",
    "        \\vdots & & & & \\vdots\\\\\n",
    "        a_{(m-1)-L} & a_{(m-1)-(L-1)} & \\dots & a_{m-3} & a_{m-2}\\\\\n",
    "        a_{m-L} & a_{m-(L-1)} &\\dots & a_{m-2} &a_{m-1}\n",
    "        \\end{pmatrix}\n",
    "        &\n",
    "        T^{m-L \\times 1}=\n",
    "        \\begin{pmatrix}\n",
    "        a_{L+1} \\\\\n",
    "        a_{L+2} \\\\\n",
    "        a_{L+3} \\\\\n",
    "        \\vdots \\\\\n",
    "        a_{m-1} \\\\\n",
    "        a_{m} \\\\\n",
    "    \\end{pmatrix}\n",
    "\\end{array}\n",
    "$$"
   ]
  },
  {
   "cell_type": "markdown",
   "metadata": {},
   "source": [
    "\n",
    "### Esempio\n",
    "Esempio per $dataset = \\{ x \\in N: 0< x \\le 100 \\}$, $m = 100$, $L=10$\n",
    "\n",
    "$$\n",
    "\\begin{array}{}\n",
    "    I^{90 \\times 10} =\n",
    "    \\begin{pmatrix}\n",
    "        1 & 2 & 3 & 4 & 5 & 6 & 7 & 8 & 9 & 10 \\\\\n",
    "        2 & 3 & 4 & 5 & 6 & 7 & 8 & 9 & 10 & 11 \\\\\n",
    "        3 & 4 & 5 & 6 & 7 & 8 & 9 & 10 & 11 & 12 \\\\\n",
    "        \\vdots \\\\\n",
    "        98 & 90 & 91 & 92 & 93 & 94 & 95 & 96 & 97 & 98 \\\\\n",
    "        90 & 91 & 92 & 93 & 94 & 95 & 96 & 97 & 98 & 99 \\\\\n",
    "    \\end{pmatrix}\n",
    "    &\n",
    "    T^{90 \\times 1}=\n",
    "    \\begin{pmatrix}\n",
    "        11 \\\\\n",
    "        12 \\\\\n",
    "        13 \\\\\n",
    "        \\vdots \\\\\n",
    "        99 \\\\\n",
    "        100 \\\\\n",
    "    \\end{pmatrix}\n",
    "\\end{array}\n",
    "$$\n",
    "\n",
    "Prendiamo un valore di split $0<ts<$ abbiamo che le predizioni saranno\n",
    "\n",
    "$$\n",
    "\\begin{align}\n",
    "    |p_t| &= m - L \\\\\n",
    "    P_{train} &= \\{a_i, \\ {L}<i\\le ts : p_i = model.predict((a_{i-L}, \\dots, a_{i-1}) \\} \\\\\n",
    "    P_{val} &= \\{a_i, \\ {ts + L}<i\\le n : p_i = model.predict((a_{i-L}, \\dots, a_{i-1}) \\} \\\\\n",
    "\\end{align}\n",
    "$$\n",
    "\n"
   ]
  },
  {
   "cell_type": "markdown",
   "metadata": {
    "pycharm": {
     "name": "#%% md\n"
    }
   },
   "source": [
    "\n",
    "## Data una sequenza bidimensionale predirne il continuo\n",
    "\n",
    "È l'estensione su due dimensioni dell'applicazione precedente. In questo caso in input abbiamo $n$ sequenze di input e come previsione avremo non uno ma $n$ valori.\n",
    "\n",
    "TODO\n",
    "\n",
    "    Samples. One sequence is one sample. A batch is comprised of one or more samples.\n",
    "    Time Steps. One time step is one point of observation in the sample.\n",
    "    Features. One feature is one observation at a time step.\n",
    "\n",
    "Il modello utilizzato è il seguente\n",
    "\n",
    "\n",
    "```\n",
    "Model: \"sequential\"\n",
    "_________________________________________________________________\n",
    "Layer (type)                 Output Shape              Param #\n",
    "=================================================================\n",
    "lstm (LSTM)                  (None, 4)                 176\n",
    "_________________________________________________________________\n",
    "dense (Dense)                (None, 6)                 30\n",
    "=================================================================\n",
    "Total params: 206\n",
    "Trainable params: 206\n",
    "Non-trainable params: 0\n",
    "_________________________________________________________________\n",
    "```\n"
   ]
  },
  {
   "cell_type": "markdown",
   "metadata": {
    "pycharm": {
     "name": "#%% md\n"
    }
   },
   "source": [
    "\n",
    "## Conclusioni\n",
    "### 9/02/21\n",
    "\n",
    "Alcune parti del processo non mi sono ancora del tutto chiare ma la cosa che più mi preoccupa sono alcune predizioni eccessivamente corrette. Temo possa essere stato impostato male il problema.\n",
    "\n",
    "Prossimi passi:\n",
    "\n",
    "- Mischiare dati di soggetti differenti\n",
    "- Migliorare la consapevolezza sull’esperimento\n",
    "- Automatizzare per ogni canale in ingresso\n",
    "  - La produzione dei modelli e delle predizioni\n",
    "  - La produzione dei plot\n",
    "- Creare multiplot\n"
   ]
  }
 ],
 "metadata": {
  "kernelspec": {
   "display_name": "cuda-11",
   "language": "python",
   "name": "cuda-11"
  },
  "language_info": {
   "codemirror_mode": {
    "name": "ipython",
    "version": 3
   },
   "file_extension": ".py",
   "mimetype": "text/x-python",
   "name": "python",
   "nbconvert_exporter": "python",
   "pygments_lexer": "ipython3",
   "version": "3.8.5"
  }
 },
 "nbformat": 4,
 "nbformat_minor": 4
}
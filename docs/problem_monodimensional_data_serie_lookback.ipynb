{
 "cells": [
  {
   "cell_type": "markdown",
   "metadata": {
    "collapsed": true,
    "pycharm": {
     "name": "#%% md\n"
    }
   },
   "source": [
    "# Data una sequenza monodimensionale predirne il continuo\n"
   ]
  },
  {
   "cell_type": "markdown",
   "source": [
    "\n",
    "## Dati\n",
    "\n",
    "Abbiamo in input un dataset composto da $m$ elementi, così formato\n",
    "\n",
    "$$\n",
    "\\begin{equation}\n",
    "dataset = (a_1, a_2, \\dots, a_m)' =\n",
    "\\begin{bmatrix}\n",
    "a_1 \\\\ a_2 \\\\ \\vdots \\\\ a_m\n",
    "\\end{bmatrix}\n",
    "\\end{equation}\n",
    "$$\n"
   ],
   "metadata": {
    "collapsed": false
   }
  },
  {
   "cell_type": "markdown",
   "source": [
    "\n",
    "## Model e train\n",
    "\n",
    "Prendiamo i dati e scegliamo un indice $i$ che divida i dati tra quelli che useremo per l’allenamento e quelli invece che useremo per la validazione\n",
    "\n",
    "$$\n",
    "\\begin{align}\n",
    "train &= (a_1, a_2, \\dots, a_{i})' \\\\\n",
    "val &= (a_{i+1}, a_{i+2}, \\dots, a_m)'\n",
    "\\end{align}\n",
    "$$\n",
    "\n",
    "Sia per i dati di allenamento che per i dati di validazione, generiamo le variabili $input_{L}(x)$ e il $target_L(y)$, dove $L$ è la variabile di *look back* che ci dice quanti elementi vengono tenuti in considerazione per indovinare l’elemento $a_{L+1}$-esimo\n",
    "\n",
    "$$\n",
    "\\begin{align}\n",
    "    &\\begin{cases}\n",
    "        input_1 &= (a_1, a_2, \\dots, a_{m-1})'\n",
    "        \\\\\n",
    "        target_1 &= (a_{2}, a_{3}, \\dots, a_m)'\n",
    "        \\end{cases}\n",
    "        \\\\\n",
    "    &\\begin{cases}\n",
    "        input_2 &=\n",
    "        ((a_1, a_2), (a_2, a_3) \\dots,(a_{n-2}, a_{m-1}) )'\n",
    "        \\\\\n",
    "        target_2 &= (a_{3}, a_{4}, \\dots, a_m)'\n",
    "        \\end{cases}\n",
    "        \\\\\n",
    "        &\\vdots\n",
    "        \\\\\n",
    "    &\\begin{cases}\n",
    "        input_L &= ((a_1, a_2, \\dots, a_{L}),\\dots,((a_{m-L}, a_{m-(L-1)}, \\dots, a_{m-2}, a_{m-1})) )'\n",
    "        \\\\\n",
    "        target_L &= (a_{L+1}, \\dots, a_m)'\n",
    "    \\end{cases}\n",
    "\\end{align}\n",
    "$$\n",
    "\n",
    "in forma matriciale\n",
    "\n",
    "$$\n",
    "\\begin{array}{}\n",
    "    I^{(m-L) \\times (L)} =\n",
    "    \\begin{pmatrix}\n",
    "        a_1 & a_2 & \\dots & a_{L-1} & a_{L} \\\\\n",
    "        a_2 & a_3 & \\dots & a_{L} & a_{L+1} \\\\\n",
    "        a_3 & a_4 & \\dots & a_{L+1} & a_{L+2} \\\\\n",
    "        \\vdots & & & & \\vdots\\\\\n",
    "        a_{(m-1)-L} & a_{(m-1)-(L-1)} & \\dots & a_{m-3} & a_{m-2}\\\\\n",
    "        a_{m-L} & a_{m-(L-1)} &\\dots & a_{m-2} &a_{m-1}\n",
    "        \\end{pmatrix}\n",
    "        &\n",
    "        T^{m-L \\times 1}=\n",
    "        \\begin{pmatrix}\n",
    "        a_{L+1} \\\\\n",
    "        a_{L+2} \\\\\n",
    "        a_{L+3} \\\\\n",
    "        \\vdots \\\\\n",
    "        a_{m-1} \\\\\n",
    "        a_{m} \\\\\n",
    "    \\end{pmatrix}\n",
    "\\end{array}\n",
    "$$"
   ],
   "metadata": {
    "collapsed": false
   }
  },
  {
   "cell_type": "markdown",
   "source": [
    "\n",
    "### Esempio\n",
    "Esempio per $dataset = \\{ x \\in N: 0< x \\le 100 \\}$, $m = 100$, $L=10$\n",
    "\n",
    "$$\n",
    "\\begin{array}{}\n",
    "    I^{90 \\times 10} =\n",
    "    \\begin{pmatrix}\n",
    "        1 & 2 & 3 & 4 & 5 & 6 & 7 & 8 & 9 & 10 \\\\\n",
    "        2 & 3 & 4 & 5 & 6 & 7 & 8 & 9 & 10 & 11 \\\\\n",
    "        3 & 4 & 5 & 6 & 7 & 8 & 9 & 10 & 11 & 12 \\\\\n",
    "        \\vdots \\\\\n",
    "        98 & 90 & 91 & 92 & 93 & 94 & 95 & 96 & 97 & 98 \\\\\n",
    "        90 & 91 & 92 & 93 & 94 & 95 & 96 & 97 & 98 & 99 \\\\\n",
    "    \\end{pmatrix}\n",
    "    &\n",
    "    T^{90 \\times 1}=\n",
    "    \\begin{pmatrix}\n",
    "        11 \\\\\n",
    "        12 \\\\\n",
    "        13 \\\\\n",
    "        \\vdots \\\\\n",
    "        99 \\\\\n",
    "        100 \\\\\n",
    "    \\end{pmatrix}\n",
    "\\end{array}\n",
    "$$\n",
    "\n",
    "Prendiamo un valore di split $0<ts<$ abbiamo che le predizioni saranno\n",
    "\n",
    "$$\n",
    "\\begin{align}\n",
    "    |p_t| &= m - L \\\\\n",
    "    P_{train} &= \\{a_i, \\ {L}<i\\le ts : p_i = model.predict((a_{i-L}, \\dots, a_{i-1}) \\} \\\\\n",
    "    P_{val} &= \\{a_i, \\ {ts + L}<i\\le n : p_i = model.predict((a_{i-L}, \\dots, a_{i-1}) \\} \\\\\n",
    "\\end{align}\n",
    "$$\n"
   ],
   "metadata": {
    "collapsed": false
   }
  }
 ],
 "metadata": {
  "kernelspec": {
   "display_name": "Python 3",
   "language": "python",
   "name": "python3"
  },
  "language_info": {
   "codemirror_mode": {
    "name": "ipython",
    "version": 2
   },
   "file_extension": ".py",
   "mimetype": "text/x-python",
   "name": "python",
   "nbconvert_exporter": "python",
   "pygments_lexer": "ipython2",
   "version": "2.7.6"
  }
 },
 "nbformat": 4,
 "nbformat_minor": 0
}
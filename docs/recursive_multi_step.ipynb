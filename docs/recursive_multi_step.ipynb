{
 "cells": [
  {
   "cell_type": "markdown",
   "metadata": {
    "collapsed": true,
    "pycharm": {
     "name": "#%% md\n"
    }
   },
   "source": [
    "\n",
    "# Previsione multi-step ricorsiva\n",
    "\n",
    "La previsione multi-step ricorsiva (o iterativa) parte dagli ultimi valori del train e genera previsioni successive, \n",
    "dando in pasto all'algoritmo di previsione le previsioni generate.\n",
    "\n",
    "Prendiamo i dati e scegliamo un indice i che divida i dati tra quelli che useremo per l’allenamento e quelli invece che \n",
    "useremo per la validazione, $i = L+1, \\dots, m$\n",
    "\n",
    "$\n",
    "p_i =  model.predict(a_{i-L}, \\dots, a_{i-1})\n",
    "$\n"
   ]
  }
 ],
 "metadata": {
  "kernelspec": {
   "display_name": "Python 3",
   "language": "python",
   "name": "python3"
  },
  "language_info": {
   "codemirror_mode": {
    "name": "ipython",
    "version": 2
   },
   "file_extension": ".py",
   "mimetype": "text/x-python",
   "name": "python",
   "nbconvert_exporter": "python",
   "pygments_lexer": "ipython2",
   "version": "2.7.6"
  }
 },
 "nbformat": 4,
 "nbformat_minor": 0
}